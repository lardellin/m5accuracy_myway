{
 "cells": [
  {
   "attachments": {},
   "cell_type": "markdown",
   "metadata": {},
   "source": [
    "# Preprocessing of time series features"
   ]
  },
  {
   "cell_type": "code",
   "execution_count": 1,
   "metadata": {},
   "outputs": [],
   "source": [
    "import polars as pl\n",
    "import pandas as pd\n",
    "from sktime.datatypes import get_examples\n",
    "\n",
    "df = (\n",
    "    pl.read_parquet(\"../data/reduced_table.parquet\")\n",
    "    .sort([\"id\", \"date\"])\n",
    "    .to_pandas()\n",
    "    .assign(\n",
    "        date=lambda df: pd.PeriodIndex(df[\"date\"].dt.to_period(\"1D\")),\n",
    "        id=lambda df: df[\"id\"].astype(\"category\"),\n",
    "        item_id=lambda df: df[\"item_id\"].astype(\"category\"),\n",
    "        dept_id=lambda df: df[\"dept_id\"].astype(\"category\"),\n",
    "        cat_id=lambda df: df[\"cat_id\"].astype(\"category\"),\n",
    "        store_id=lambda df: df[\"store_id\"].astype(\"category\"),\n",
    "        state_id=lambda df: df[\"state_id\"].astype(\"category\"),\n",
    "        event_name_1=lambda df: df[\"event_name_1\"].astype(\"category\"),\n",
    "        event_type_1=lambda df: df[\"event_type_1\"].astype(\"category\"),\n",
    "        event_name_2=lambda df: df[\"event_name_2\"].astype(\"category\"),\n",
    "        event_type_2=lambda df: df[\"event_type_2\"].astype(\"category\"),\n",
    "        snap=lambda df: df[\"snap\"].astype(\"category\")\n",
    "        \n",
    "    )\n",
    "    .set_index([\"state_id\", \"store_id\", \"cat_id\", \"dept_id\", \"item_id\", \"id\", \"date\"])\n",
    ")"
   ]
  },
  {
   "cell_type": "markdown",
   "metadata": {},
   "source": [
    "casting all categories to pandas categories is important to be able to define "
   ]
  },
  {
   "cell_type": "code",
   "execution_count": 14,
   "metadata": {},
   "outputs": [
    {
     "name": "stdout",
     "output_type": "stream",
     "text": [
      "mtype of the dataset: pd_multiindex_hier scitype of the dataset: Hierarchical\n"
     ]
    }
   ],
   "source": [
    "from sktime.datatypes import mtype, scitype, check_is_scitype, check_is_mtype\n",
    "\n",
    "print(\n",
    "    \"mtype of the dataset: %s\" %\n",
    "    mtype(df.iloc[:10000], as_scitype=\"Hierarchical\"),\n",
    "    \"scitype of the dataset: %s\" % \n",
    "    scitype(df.iloc[:10000], candidate_scitypes=\"Hierarchical\")\n",
    ")\n",
    "# scitype(df[\"cat_id\"])\n",
    "# mtype(df)\n"
   ]
  },
  {
   "cell_type": "code",
   "execution_count": 6,
   "metadata": {},
   "outputs": [
    {
     "ename": "TypeError",
     "evalue": "Error in check_is_mtype, more than one mtype identified: ['pd_multiindex_hier', 'pd_DataFrame_Table']",
     "output_type": "error",
     "traceback": [
      "\u001b[0;31m---------------------------------------------------------------------------\u001b[0m",
      "\u001b[0;31mTypeError\u001b[0m                                 Traceback (most recent call last)",
      "Cell \u001b[0;32mIn[6], line 1\u001b[0m\n\u001b[0;32m----> 1\u001b[0m mtype(df\u001b[39m.\u001b[39;49miloc[:\u001b[39m10000\u001b[39;49m])\n",
      "File \u001b[0;32m~/.envs/default_python/lib64/python3.11/site-packages/sktime/datatypes/_check.py:311\u001b[0m, in \u001b[0;36mmtype\u001b[0;34m(obj, as_scitype, exclude_mtypes)\u001b[0m\n\u001b[1;32m    308\u001b[0m         mtypes_negative[m_plus_scitype[\u001b[39m0\u001b[39m]] \u001b[39m=\u001b[39m msg\n\u001b[1;32m    310\u001b[0m \u001b[39mif\u001b[39;00m \u001b[39mlen\u001b[39m(mtypes_positive) \u001b[39m>\u001b[39m \u001b[39m1\u001b[39m:\n\u001b[0;32m--> 311\u001b[0m     \u001b[39mraise\u001b[39;00m \u001b[39mTypeError\u001b[39;00m(\n\u001b[1;32m    312\u001b[0m         \u001b[39mf\u001b[39m\u001b[39m\"\u001b[39m\u001b[39mError in check_is_mtype, more than one mtype identified:\u001b[39m\u001b[39m\"\u001b[39m\n\u001b[1;32m    313\u001b[0m         \u001b[39mf\u001b[39m\u001b[39m\"\u001b[39m\u001b[39m \u001b[39m\u001b[39m{\u001b[39;00mmtypes_positive\u001b[39m}\u001b[39;00m\u001b[39m\"\u001b[39m\n\u001b[1;32m    314\u001b[0m     )\n\u001b[1;32m    316\u001b[0m \u001b[39mif\u001b[39;00m \u001b[39mlen\u001b[39m(mtypes_positive) \u001b[39m<\u001b[39m \u001b[39m1\u001b[39m:\n\u001b[1;32m    317\u001b[0m     msg \u001b[39m=\u001b[39m \u001b[39m\"\u001b[39m\u001b[39m\"\u001b[39m\n",
      "\u001b[0;31mTypeError\u001b[0m: Error in check_is_mtype, more than one mtype identified: ['pd_multiindex_hier', 'pd_DataFrame_Table']"
     ]
    }
   ],
   "source": [
    "mtype(df.iloc[:10000])"
   ]
  },
  {
   "cell_type": "code",
   "execution_count": 12,
   "metadata": {},
   "outputs": [],
   "source": [
    "df = get_examples(mtype=\"pd-multiindex\", as_scitype=\"Panel\")[2]"
   ]
  },
  {
   "cell_type": "code",
   "execution_count": 14,
   "metadata": {},
   "outputs": [
    {
     "data": {
      "text/html": [
       "<div>\n",
       "<style scoped>\n",
       "    .dataframe tbody tr th:only-of-type {\n",
       "        vertical-align: middle;\n",
       "    }\n",
       "\n",
       "    .dataframe tbody tr th {\n",
       "        vertical-align: top;\n",
       "    }\n",
       "\n",
       "    .dataframe thead th {\n",
       "        text-align: right;\n",
       "    }\n",
       "</style>\n",
       "<table border=\"1\" class=\"dataframe\">\n",
       "  <thead>\n",
       "    <tr style=\"text-align: right;\">\n",
       "      <th></th>\n",
       "      <th></th>\n",
       "      <th>var_0</th>\n",
       "    </tr>\n",
       "    <tr>\n",
       "      <th>instances</th>\n",
       "      <th>timepoints</th>\n",
       "      <th></th>\n",
       "    </tr>\n",
       "  </thead>\n",
       "  <tbody>\n",
       "    <tr>\n",
       "      <th rowspan=\"3\" valign=\"top\">0</th>\n",
       "      <th>0</th>\n",
       "      <td>4</td>\n",
       "    </tr>\n",
       "    <tr>\n",
       "      <th>1</th>\n",
       "      <td>5</td>\n",
       "    </tr>\n",
       "    <tr>\n",
       "      <th>2</th>\n",
       "      <td>6</td>\n",
       "    </tr>\n",
       "  </tbody>\n",
       "</table>\n",
       "</div>"
      ],
      "text/plain": [
       "                      var_0\n",
       "instances timepoints       \n",
       "0         0               4\n",
       "          1               5\n",
       "          2               6"
      ]
     },
     "execution_count": 14,
     "metadata": {},
     "output_type": "execute_result"
    }
   ],
   "source": []
  },
  {
   "cell_type": "code",
   "execution_count": null,
   "metadata": {},
   "outputs": [],
   "source": []
  }
 ],
 "metadata": {
  "kernelspec": {
   "display_name": "default_python",
   "language": "python",
   "name": "python3"
  },
  "language_info": {
   "codemirror_mode": {
    "name": "ipython",
    "version": 3
   },
   "file_extension": ".py",
   "mimetype": "text/x-python",
   "name": "python",
   "nbconvert_exporter": "python",
   "pygments_lexer": "ipython3",
   "version": "3.11.4"
  },
  "orig_nbformat": 4
 },
 "nbformat": 4,
 "nbformat_minor": 2
}
