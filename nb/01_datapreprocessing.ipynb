{
 "cells": [
  {
   "cell_type": "code",
   "execution_count": 1,
   "metadata": {},
   "outputs": [],
   "source": [
    "import polars as pl"
   ]
  },
  {
   "cell_type": "code",
   "execution_count": 2,
   "metadata": {},
   "outputs": [],
   "source": [
    "data_path = \"data\"\n"
   ]
  },
  {
   "cell_type": "code",
   "execution_count": 8,
   "metadata": {},
   "outputs": [],
   "source": [
    "sales = (\n",
    "    pl.read_csv(\"../data/sales_train_evaluation.csv\")\n",
    "    .lazy()\n",
    "    .melt(id_vars=[\n",
    "        \"id\", \"item_id\", \"dept_id\", \"cat_id\", \"store_id\", \"state_id\"\n",
    "        ], value_name=\"sales\", variable_name=\"d\")\n",
    "    .with_columns(\n",
    "        pl.col(\"d\").str.slice(2, ).alias(\"days_since_start\").cast(int)\n",
    "    )\n",
    ")"
   ]
  },
  {
   "cell_type": "code",
   "execution_count": 9,
   "metadata": {},
   "outputs": [],
   "source": [
    "calendar = (\n",
    "    pl.read_csv(\"../data/calendar.csv\")\n",
    "    .lazy()\n",
    "    .melt(id_vars=[\n",
    "        \"date\", \"wm_yr_wk\", \"weekday\", \"wday\", \"month\", \"year\", \"d\", \n",
    "        \"event_name_1\", \"event_type_1\", \"event_name_2\", \"event_type_2\"\n",
    "        ], variable_name=\"state_id\", value_name=\"snap\")\n",
    "    .with_columns(\n",
    "        pl.col(\"date\").str.strptime(pl.Date, \"%Y-%m-%d\"),\n",
    "        pl.col(\"state_id\").str.slice(-2, )\n",
    "    )\n",
    ")"
   ]
  },
  {
   "cell_type": "code",
   "execution_count": 11,
   "metadata": {},
   "outputs": [],
   "source": [
    "prices = (\n",
    "    pl.read_csv(\"../data/sell_prices.csv\")\n",
    "    .lazy()\n",
    ")"
   ]
  },
  {
   "cell_type": "code",
   "execution_count": 15,
   "metadata": {},
   "outputs": [],
   "source": [
    "df = (\n",
    "    sales\n",
    "    .join(calendar, on=[\"d\", \"state_id\"])\n",
    "    # NOTE: if the price is not reported in the prices table this filters automatically the\n",
    "    #       days without listings in the beginning\n",
    "    .join(prices, on=[\"store_id\", \"item_id\", \"wm_yr_wk\"])\n",
    "    .collect()\n",
    ")"
   ]
  },
  {
   "cell_type": "code",
   "execution_count": 16,
   "metadata": {},
   "outputs": [
    {
     "data": {
      "text/html": [
       "<div><style>\n",
       ".dataframe > thead > tr > th,\n",
       ".dataframe > tbody > tr > td {\n",
       "  text-align: right;\n",
       "}\n",
       "</style>\n",
       "<small>shape: (5, 21)</small><table border=\"1\" class=\"dataframe\"><thead><tr><th>id</th><th>item_id</th><th>dept_id</th><th>cat_id</th><th>store_id</th><th>state_id</th><th>d</th><th>sales</th><th>days_since_start</th><th>date</th><th>wm_yr_wk</th><th>weekday</th><th>wday</th><th>month</th><th>year</th><th>event_name_1</th><th>event_type_1</th><th>event_name_2</th><th>event_type_2</th><th>snap</th><th>sell_price</th></tr><tr><td>str</td><td>str</td><td>str</td><td>str</td><td>str</td><td>str</td><td>str</td><td>i64</td><td>i64</td><td>date</td><td>i64</td><td>str</td><td>i64</td><td>i64</td><td>i64</td><td>str</td><td>str</td><td>str</td><td>str</td><td>i64</td><td>f64</td></tr></thead><tbody><tr><td>&quot;HOBBIES_1_008_…</td><td>&quot;HOBBIES_1_008&quot;</td><td>&quot;HOBBIES_1&quot;</td><td>&quot;HOBBIES&quot;</td><td>&quot;CA_1&quot;</td><td>&quot;CA&quot;</td><td>&quot;d_1&quot;</td><td>12</td><td>1</td><td>2011-01-29</td><td>11101</td><td>&quot;Saturday&quot;</td><td>1</td><td>1</td><td>2011</td><td>null</td><td>null</td><td>null</td><td>null</td><td>0</td><td>0.46</td></tr><tr><td>&quot;HOBBIES_1_009_…</td><td>&quot;HOBBIES_1_009&quot;</td><td>&quot;HOBBIES_1&quot;</td><td>&quot;HOBBIES&quot;</td><td>&quot;CA_1&quot;</td><td>&quot;CA&quot;</td><td>&quot;d_1&quot;</td><td>2</td><td>1</td><td>2011-01-29</td><td>11101</td><td>&quot;Saturday&quot;</td><td>1</td><td>1</td><td>2011</td><td>null</td><td>null</td><td>null</td><td>null</td><td>0</td><td>1.56</td></tr><tr><td>&quot;HOBBIES_1_010_…</td><td>&quot;HOBBIES_1_010&quot;</td><td>&quot;HOBBIES_1&quot;</td><td>&quot;HOBBIES&quot;</td><td>&quot;CA_1&quot;</td><td>&quot;CA&quot;</td><td>&quot;d_1&quot;</td><td>0</td><td>1</td><td>2011-01-29</td><td>11101</td><td>&quot;Saturday&quot;</td><td>1</td><td>1</td><td>2011</td><td>null</td><td>null</td><td>null</td><td>null</td><td>0</td><td>3.17</td></tr><tr><td>&quot;HOBBIES_1_012_…</td><td>&quot;HOBBIES_1_012&quot;</td><td>&quot;HOBBIES_1&quot;</td><td>&quot;HOBBIES&quot;</td><td>&quot;CA_1&quot;</td><td>&quot;CA&quot;</td><td>&quot;d_1&quot;</td><td>0</td><td>1</td><td>2011-01-29</td><td>11101</td><td>&quot;Saturday&quot;</td><td>1</td><td>1</td><td>2011</td><td>null</td><td>null</td><td>null</td><td>null</td><td>0</td><td>5.98</td></tr><tr><td>&quot;HOBBIES_1_015_…</td><td>&quot;HOBBIES_1_015&quot;</td><td>&quot;HOBBIES_1&quot;</td><td>&quot;HOBBIES&quot;</td><td>&quot;CA_1&quot;</td><td>&quot;CA&quot;</td><td>&quot;d_1&quot;</td><td>4</td><td>1</td><td>2011-01-29</td><td>11101</td><td>&quot;Saturday&quot;</td><td>1</td><td>1</td><td>2011</td><td>null</td><td>null</td><td>null</td><td>null</td><td>0</td><td>0.7</td></tr></tbody></table></div>"
      ],
      "text/plain": [
       "shape: (5, 21)\n",
       "┌─────────────┬────────────┬───────────┬─────────┬───┬────────────┬────────────┬──────┬────────────┐\n",
       "│ id          ┆ item_id    ┆ dept_id   ┆ cat_id  ┆ … ┆ event_name ┆ event_type ┆ snap ┆ sell_price │\n",
       "│ ---         ┆ ---        ┆ ---       ┆ ---     ┆   ┆ _2         ┆ _2         ┆ ---  ┆ ---        │\n",
       "│ str         ┆ str        ┆ str       ┆ str     ┆   ┆ ---        ┆ ---        ┆ i64  ┆ f64        │\n",
       "│             ┆            ┆           ┆         ┆   ┆ str        ┆ str        ┆      ┆            │\n",
       "╞═════════════╪════════════╪═══════════╪═════════╪═══╪════════════╪════════════╪══════╪════════════╡\n",
       "│ HOBBIES_1_0 ┆ HOBBIES_1_ ┆ HOBBIES_1 ┆ HOBBIES ┆ … ┆ null       ┆ null       ┆ 0    ┆ 0.46       │\n",
       "│ 08_CA_1_eva ┆ 008        ┆           ┆         ┆   ┆            ┆            ┆      ┆            │\n",
       "│ luation     ┆            ┆           ┆         ┆   ┆            ┆            ┆      ┆            │\n",
       "│ HOBBIES_1_0 ┆ HOBBIES_1_ ┆ HOBBIES_1 ┆ HOBBIES ┆ … ┆ null       ┆ null       ┆ 0    ┆ 1.56       │\n",
       "│ 09_CA_1_eva ┆ 009        ┆           ┆         ┆   ┆            ┆            ┆      ┆            │\n",
       "│ luation     ┆            ┆           ┆         ┆   ┆            ┆            ┆      ┆            │\n",
       "│ HOBBIES_1_0 ┆ HOBBIES_1_ ┆ HOBBIES_1 ┆ HOBBIES ┆ … ┆ null       ┆ null       ┆ 0    ┆ 3.17       │\n",
       "│ 10_CA_1_eva ┆ 010        ┆           ┆         ┆   ┆            ┆            ┆      ┆            │\n",
       "│ luation     ┆            ┆           ┆         ┆   ┆            ┆            ┆      ┆            │\n",
       "│ HOBBIES_1_0 ┆ HOBBIES_1_ ┆ HOBBIES_1 ┆ HOBBIES ┆ … ┆ null       ┆ null       ┆ 0    ┆ 5.98       │\n",
       "│ 12_CA_1_eva ┆ 012        ┆           ┆         ┆   ┆            ┆            ┆      ┆            │\n",
       "│ luation     ┆            ┆           ┆         ┆   ┆            ┆            ┆      ┆            │\n",
       "│ HOBBIES_1_0 ┆ HOBBIES_1_ ┆ HOBBIES_1 ┆ HOBBIES ┆ … ┆ null       ┆ null       ┆ 0    ┆ 0.7        │\n",
       "│ 15_CA_1_eva ┆ 015        ┆           ┆         ┆   ┆            ┆            ┆      ┆            │\n",
       "│ luation     ┆            ┆           ┆         ┆   ┆            ┆            ┆      ┆            │\n",
       "└─────────────┴────────────┴───────────┴─────────┴───┴────────────┴────────────┴──────┴────────────┘"
      ]
     },
     "execution_count": 16,
     "metadata": {},
     "output_type": "execute_result"
    }
   ],
   "source": [
    "df.head()"
   ]
  },
  {
   "cell_type": "code",
   "execution_count": 17,
   "metadata": {},
   "outputs": [],
   "source": [
    "df.write_parquet(\"../data/full_table.parquet\")"
   ]
  },
  {
   "cell_type": "code",
   "execution_count": 18,
   "metadata": {},
   "outputs": [],
   "source": [
    "(\n",
    "    df\n",
    "    .select([\n",
    "        \"id\", \"item_id\", \"dept_id\", \"cat_id\", \"store_id\", \"state_id\", \n",
    "        \"sales\", \"date\", \"event_name_1\", \"event_type_1\", \"event_name_2\",\n",
    "        \"event_type_2\", \"snap\", \"sell_price\"\n",
    "    ])\n",
    "    .write_parquet(\"../data/reduced_table.parquet\")\n",
    ")"
   ]
  },
  {
   "cell_type": "code",
   "execution_count": null,
   "metadata": {},
   "outputs": [],
   "source": []
  }
 ],
 "metadata": {
  "kernelspec": {
   "display_name": "default_python",
   "language": "python",
   "name": "python3"
  },
  "language_info": {
   "codemirror_mode": {
    "name": "ipython",
    "version": 3
   },
   "file_extension": ".py",
   "mimetype": "text/x-python",
   "name": "python",
   "nbconvert_exporter": "python",
   "pygments_lexer": "ipython3",
   "version": "3.11.4"
  },
  "orig_nbformat": 4
 },
 "nbformat": 4,
 "nbformat_minor": 2
}
