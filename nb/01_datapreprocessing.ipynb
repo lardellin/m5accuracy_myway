{
 "cells": [
  {
   "cell_type": "code",
   "execution_count": 73,
   "metadata": {},
   "outputs": [],
   "source": [
    "import polars as pl\n",
    "import numpy as np\n",
    "\n",
    "data_path = \"data\""
   ]
  },
  {
   "cell_type": "code",
   "execution_count": 74,
   "metadata": {},
   "outputs": [],
   "source": [
    "sales = (\n",
    "    pl.read_csv(\"../data/sales_train_evaluation.csv\")\n",
    "    .lazy()\n",
    "    .melt(id_vars=[\n",
    "        \"id\", \"item_id\", \"dept_id\", \"cat_id\", \"store_id\", \"state_id\"\n",
    "        ], value_name=\"sales\", variable_name=\"d\")\n",
    "    .with_columns(\n",
    "        pl.col(\"d\").str.slice(2, ).alias(\"days_since_start\").cast(int)\n",
    "    )\n",
    ")"
   ]
  },
  {
   "cell_type": "code",
   "execution_count": 75,
   "metadata": {},
   "outputs": [],
   "source": [
    "calendar = (\n",
    "    pl.read_csv(\"../data/calendar.csv\")\n",
    "    .lazy()\n",
    "    .melt(id_vars=[\n",
    "        \"date\", \"wm_yr_wk\", \"weekday\", \"wday\", \"month\", \"year\", \"d\", \n",
    "        \"event_name_1\", \"event_type_1\", \"event_name_2\", \"event_type_2\"\n",
    "        ], variable_name=\"state_id\", value_name=\"snap\")\n",
    "    .with_columns(\n",
    "        pl.col(\"date\").str.strptime(pl.Date, \"%Y-%m-%d\"),\n",
    "        pl.col(\"state_id\").str.slice(-2, ),\n",
    "        pl.concat_str(pl.col(\"event_name_1\").str.replace(\"\\s\", \"_\"), pl.col(\"event_type_1\").str.replace(\"\\s\", \"_\"), separator=\"/\").alias(\"event_1\"),\n",
    "        pl.concat_str(pl.col(\"event_name_2\").str.replace(\"\\s\", \"_\"), pl.col(\"event_type_2\").str.replace(\"\\s\", \"_\"), separator=\" / \").alias(\"event_2\")\n",
    "    )\n",
    "    .with_columns(\n",
    "        pl.concat_str(pl.col(\"event_1\"), pl.col(\"event_2\"), separator=\" \").fill_null(\"\").alias(\"event\")\n",
    "    )\n",
    "    .drop([\"event_name_1\", \"event_type_1\", \"event_name_2\", \"event_type_2\", \"event_1\", \"event_2\"])\n",
    ")"
   ]
  },
  {
   "cell_type": "code",
   "execution_count": 77,
   "metadata": {},
   "outputs": [
    {
     "data": {
      "text/html": [
       "<div><style>\n",
       ".dataframe > thead > tr > th,\n",
       ".dataframe > tbody > tr > td {\n",
       "  text-align: right;\n",
       "}\n",
       "</style>\n",
       "<small>shape: (5, 10)</small><table border=\"1\" class=\"dataframe\"><thead><tr><th>date</th><th>wm_yr_wk</th><th>weekday</th><th>wday</th><th>month</th><th>year</th><th>d</th><th>state_id</th><th>snap</th><th>event</th></tr><tr><td>date</td><td>i64</td><td>str</td><td>i64</td><td>i64</td><td>i64</td><td>str</td><td>str</td><td>i64</td><td>str</td></tr></thead><tbody><tr><td>2011-01-29</td><td>11101</td><td>&quot;Saturday&quot;</td><td>1</td><td>1</td><td>2011</td><td>&quot;d_1&quot;</td><td>&quot;CA&quot;</td><td>0</td><td>&quot;&quot;</td></tr><tr><td>2011-01-30</td><td>11101</td><td>&quot;Sunday&quot;</td><td>2</td><td>1</td><td>2011</td><td>&quot;d_2&quot;</td><td>&quot;CA&quot;</td><td>0</td><td>&quot;&quot;</td></tr><tr><td>2011-01-31</td><td>11101</td><td>&quot;Monday&quot;</td><td>3</td><td>1</td><td>2011</td><td>&quot;d_3&quot;</td><td>&quot;CA&quot;</td><td>0</td><td>&quot;&quot;</td></tr><tr><td>2011-02-01</td><td>11101</td><td>&quot;Tuesday&quot;</td><td>4</td><td>2</td><td>2011</td><td>&quot;d_4&quot;</td><td>&quot;CA&quot;</td><td>1</td><td>&quot;&quot;</td></tr><tr><td>2011-02-02</td><td>11101</td><td>&quot;Wednesday&quot;</td><td>5</td><td>2</td><td>2011</td><td>&quot;d_5&quot;</td><td>&quot;CA&quot;</td><td>1</td><td>&quot;&quot;</td></tr></tbody></table></div>"
      ],
      "text/plain": [
       "shape: (5, 10)\n",
       "┌────────────┬──────────┬───────────┬──────┬───┬─────┬──────────┬──────┬───────┐\n",
       "│ date       ┆ wm_yr_wk ┆ weekday   ┆ wday ┆ … ┆ d   ┆ state_id ┆ snap ┆ event │\n",
       "│ ---        ┆ ---      ┆ ---       ┆ ---  ┆   ┆ --- ┆ ---      ┆ ---  ┆ ---   │\n",
       "│ date       ┆ i64      ┆ str       ┆ i64  ┆   ┆ str ┆ str      ┆ i64  ┆ str   │\n",
       "╞════════════╪══════════╪═══════════╪══════╪═══╪═════╪══════════╪══════╪═══════╡\n",
       "│ 2011-01-29 ┆ 11101    ┆ Saturday  ┆ 1    ┆ … ┆ d_1 ┆ CA       ┆ 0    ┆       │\n",
       "│ 2011-01-30 ┆ 11101    ┆ Sunday    ┆ 2    ┆ … ┆ d_2 ┆ CA       ┆ 0    ┆       │\n",
       "│ 2011-01-31 ┆ 11101    ┆ Monday    ┆ 3    ┆ … ┆ d_3 ┆ CA       ┆ 0    ┆       │\n",
       "│ 2011-02-01 ┆ 11101    ┆ Tuesday   ┆ 4    ┆ … ┆ d_4 ┆ CA       ┆ 1    ┆       │\n",
       "│ 2011-02-02 ┆ 11101    ┆ Wednesday ┆ 5    ┆ … ┆ d_5 ┆ CA       ┆ 1    ┆       │\n",
       "└────────────┴──────────┴───────────┴──────┴───┴─────┴──────────┴──────┴───────┘"
      ]
     },
     "execution_count": 77,
     "metadata": {},
     "output_type": "execute_result"
    }
   ],
   "source": [
    "calendar.head().collect()"
   ]
  },
  {
   "cell_type": "code",
   "execution_count": 66,
   "metadata": {},
   "outputs": [],
   "source": [
    "prices = (\n",
    "    pl.read_csv(\"../data/sell_prices.csv\")\n",
    "    .lazy()\n",
    ")"
   ]
  },
  {
   "cell_type": "code",
   "execution_count": 67,
   "metadata": {},
   "outputs": [],
   "source": [
    "df = (\n",
    "    sales\n",
    "    .join(calendar, on=[\"d\", \"state_id\"])\n",
    "    # NOTE: if the price is not reported in the prices table this filters automatically the\n",
    "    #       days without listings in the beginning\n",
    "    .join(prices, on=[\"store_id\", \"item_id\", \"wm_yr_wk\"])\n",
    "    .collect()\n",
    ")"
   ]
  },
  {
   "cell_type": "code",
   "execution_count": 69,
   "metadata": {},
   "outputs": [
    {
     "data": {
      "text/html": [
       "<div><style>\n",
       ".dataframe > thead > tr > th,\n",
       ".dataframe > tbody > tr > td {\n",
       "  text-align: right;\n",
       "}\n",
       "</style>\n",
       "<small>shape: (5, 18)</small><table border=\"1\" class=\"dataframe\"><thead><tr><th>id</th><th>item_id</th><th>dept_id</th><th>cat_id</th><th>store_id</th><th>state_id</th><th>d</th><th>sales</th><th>days_since_start</th><th>date</th><th>wm_yr_wk</th><th>weekday</th><th>wday</th><th>month</th><th>year</th><th>snap</th><th>event</th><th>sell_price</th></tr><tr><td>str</td><td>str</td><td>str</td><td>str</td><td>str</td><td>str</td><td>str</td><td>i64</td><td>i64</td><td>date</td><td>i64</td><td>str</td><td>i64</td><td>i64</td><td>i64</td><td>i64</td><td>str</td><td>f64</td></tr></thead><tbody><tr><td>&quot;HOBBIES_1_008_…</td><td>&quot;HOBBIES_1_008&quot;</td><td>&quot;HOBBIES_1&quot;</td><td>&quot;HOBBIES&quot;</td><td>&quot;CA_1&quot;</td><td>&quot;CA&quot;</td><td>&quot;d_1&quot;</td><td>12</td><td>1</td><td>2011-01-29</td><td>11101</td><td>&quot;Saturday&quot;</td><td>1</td><td>1</td><td>2011</td><td>0</td><td>&quot;&quot;</td><td>0.46</td></tr><tr><td>&quot;HOBBIES_1_009_…</td><td>&quot;HOBBIES_1_009&quot;</td><td>&quot;HOBBIES_1&quot;</td><td>&quot;HOBBIES&quot;</td><td>&quot;CA_1&quot;</td><td>&quot;CA&quot;</td><td>&quot;d_1&quot;</td><td>2</td><td>1</td><td>2011-01-29</td><td>11101</td><td>&quot;Saturday&quot;</td><td>1</td><td>1</td><td>2011</td><td>0</td><td>&quot;&quot;</td><td>1.56</td></tr><tr><td>&quot;HOBBIES_1_010_…</td><td>&quot;HOBBIES_1_010&quot;</td><td>&quot;HOBBIES_1&quot;</td><td>&quot;HOBBIES&quot;</td><td>&quot;CA_1&quot;</td><td>&quot;CA&quot;</td><td>&quot;d_1&quot;</td><td>0</td><td>1</td><td>2011-01-29</td><td>11101</td><td>&quot;Saturday&quot;</td><td>1</td><td>1</td><td>2011</td><td>0</td><td>&quot;&quot;</td><td>3.17</td></tr><tr><td>&quot;HOBBIES_1_012_…</td><td>&quot;HOBBIES_1_012&quot;</td><td>&quot;HOBBIES_1&quot;</td><td>&quot;HOBBIES&quot;</td><td>&quot;CA_1&quot;</td><td>&quot;CA&quot;</td><td>&quot;d_1&quot;</td><td>0</td><td>1</td><td>2011-01-29</td><td>11101</td><td>&quot;Saturday&quot;</td><td>1</td><td>1</td><td>2011</td><td>0</td><td>&quot;&quot;</td><td>5.98</td></tr><tr><td>&quot;HOBBIES_1_015_…</td><td>&quot;HOBBIES_1_015&quot;</td><td>&quot;HOBBIES_1&quot;</td><td>&quot;HOBBIES&quot;</td><td>&quot;CA_1&quot;</td><td>&quot;CA&quot;</td><td>&quot;d_1&quot;</td><td>4</td><td>1</td><td>2011-01-29</td><td>11101</td><td>&quot;Saturday&quot;</td><td>1</td><td>1</td><td>2011</td><td>0</td><td>&quot;&quot;</td><td>0.7</td></tr></tbody></table></div>"
      ],
      "text/plain": [
       "shape: (5, 18)\n",
       "┌─────────────────────┬───────────────┬───────────┬─────────┬───┬──────┬──────┬───────┬────────────┐\n",
       "│ id                  ┆ item_id       ┆ dept_id   ┆ cat_id  ┆ … ┆ year ┆ snap ┆ event ┆ sell_price │\n",
       "│ ---                 ┆ ---           ┆ ---       ┆ ---     ┆   ┆ ---  ┆ ---  ┆ ---   ┆ ---        │\n",
       "│ str                 ┆ str           ┆ str       ┆ str     ┆   ┆ i64  ┆ i64  ┆ str   ┆ f64        │\n",
       "╞═════════════════════╪═══════════════╪═══════════╪═════════╪═══╪══════╪══════╪═══════╪════════════╡\n",
       "│ HOBBIES_1_008_CA_1_ ┆ HOBBIES_1_008 ┆ HOBBIES_1 ┆ HOBBIES ┆ … ┆ 2011 ┆ 0    ┆       ┆ 0.46       │\n",
       "│ evaluation          ┆               ┆           ┆         ┆   ┆      ┆      ┆       ┆            │\n",
       "│ HOBBIES_1_009_CA_1_ ┆ HOBBIES_1_009 ┆ HOBBIES_1 ┆ HOBBIES ┆ … ┆ 2011 ┆ 0    ┆       ┆ 1.56       │\n",
       "│ evaluation          ┆               ┆           ┆         ┆   ┆      ┆      ┆       ┆            │\n",
       "│ HOBBIES_1_010_CA_1_ ┆ HOBBIES_1_010 ┆ HOBBIES_1 ┆ HOBBIES ┆ … ┆ 2011 ┆ 0    ┆       ┆ 3.17       │\n",
       "│ evaluation          ┆               ┆           ┆         ┆   ┆      ┆      ┆       ┆            │\n",
       "│ HOBBIES_1_012_CA_1_ ┆ HOBBIES_1_012 ┆ HOBBIES_1 ┆ HOBBIES ┆ … ┆ 2011 ┆ 0    ┆       ┆ 5.98       │\n",
       "│ evaluation          ┆               ┆           ┆         ┆   ┆      ┆      ┆       ┆            │\n",
       "│ HOBBIES_1_015_CA_1_ ┆ HOBBIES_1_015 ┆ HOBBIES_1 ┆ HOBBIES ┆ … ┆ 2011 ┆ 0    ┆       ┆ 0.7        │\n",
       "│ evaluation          ┆               ┆           ┆         ┆   ┆      ┆      ┆       ┆            │\n",
       "└─────────────────────┴───────────────┴───────────┴─────────┴───┴──────┴──────┴───────┴────────────┘"
      ]
     },
     "execution_count": 69,
     "metadata": {},
     "output_type": "execute_result"
    }
   ],
   "source": [
    "df.head()"
   ]
  },
  {
   "cell_type": "code",
   "execution_count": 70,
   "metadata": {},
   "outputs": [],
   "source": [
    "df.write_parquet(\"../data/full_table.parquet\")"
   ]
  },
  {
   "cell_type": "code",
   "execution_count": 71,
   "metadata": {},
   "outputs": [],
   "source": [
    "(\n",
    "    df\n",
    "    .select([\n",
    "        \"id\", \"item_id\", \"dept_id\", \"cat_id\", \"store_id\", \"state_id\", \n",
    "        \"sales\", \"date\", \"event\", \"snap\", \"sell_price\"\n",
    "    ])\n",
    "    .write_parquet(\"../data/reduced_table.parquet\")\n",
    ")"
   ]
  },
  {
   "cell_type": "code",
   "execution_count": null,
   "metadata": {},
   "outputs": [],
   "source": []
  }
 ],
 "metadata": {
  "kernelspec": {
   "display_name": "default_python",
   "language": "python",
   "name": "python3"
  },
  "language_info": {
   "codemirror_mode": {
    "name": "ipython",
    "version": 3
   },
   "file_extension": ".py",
   "mimetype": "text/x-python",
   "name": "python",
   "nbconvert_exporter": "python",
   "pygments_lexer": "ipython3",
   "version": "3.11.4"
  },
  "orig_nbformat": 4
 },
 "nbformat": 4,
 "nbformat_minor": 2
}
